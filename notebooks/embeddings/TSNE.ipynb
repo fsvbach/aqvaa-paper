{
 "cells": [
  {
   "cell_type": "code",
   "execution_count": 2,
   "id": "86fdd9dd",
   "metadata": {},
   "outputs": [],
   "source": [
    "import sys\n",
    "sys.path.insert(0, '../../src')\n",
    "from utils import preprocession as prep\n",
    "from utils.metrics import compute_metric, add_to_metrics, columns\n",
    "\n",
    "import os\n",
    "import pickle\n",
    "import pandas as pd\n",
    "import numpy as np\n",
    "\n",
    "from openTSNE import TSNE\n",
    "\n",
    "from tqdm.notebook import tqdm\n",
    "tqdm.pandas()"
   ]
  },
  {
   "cell_type": "markdown",
   "id": "96860f28",
   "metadata": {},
   "source": [
    "## TSNE Embeddings"
   ]
  },
  {
   "cell_type": "code",
   "execution_count": 11,
   "id": "ce5231ca",
   "metadata": {},
   "outputs": [],
   "source": [
    "def embedTSNE(folder_name, data_name):\n",
    "\n",
    "    train, test = prep.load_data(folder_name, data_name)\n",
    "    _, train_reactions = train\n",
    "    _, test_reactions = test\n",
    "\n",
    "    method_path = f\"../../embeddings/TSNE/{folder_name}/{data_name}\"\n",
    "    os.makedirs(method_path, exist_ok=True)\n",
    "\n",
    "    metrics = []\n",
    "    for p in tqdm(train_reactions.keys()):\n",
    "        train_data = prep.impute_dataframe(train_reactions[p])\n",
    "        tsne = TSNE(n_components=2).fit(train_data.values)\n",
    "        with open(f'{method_path}/TSNE_{p}.pkl', 'wb') as file:\n",
    "            pickle.dump(tsne, file)\n",
    "\n",
    "        X = pd.DataFrame(tsne.transform(train_data.values),\n",
    "                         index=train_reactions[p].index, columns=['x','y'])\n",
    "        X.to_csv(f'{method_path}/train_embedding_{p}.csv')\n",
    "\n",
    "        test_list = test_reactions.keys() if p == 0 else [p]\n",
    "        for q in test_list:\n",
    "            test_data  = prep.impute_dataframe(test_reactions[q], mean=train_data.mean())\n",
    "\n",
    "            Y = pd.DataFrame(tsne.transform(test_data.values), \n",
    "                             index=test_reactions[p].index, columns=['x','y'])\n",
    "            Y.to_csv(f'{method_path}/test_embedding_{p}_{q}.csv')"
   ]
  },
  {
   "cell_type": "markdown",
   "id": "8209a390",
   "metadata": {},
   "source": [
    "## Datasets\n",
    "\n",
    "### Smartvote Original"
   ]
  },
  {
   "cell_type": "code",
   "execution_count": 13,
   "id": "331e1874",
   "metadata": {
    "scrolled": true
   },
   "outputs": [
    {
     "data": {
      "application/vnd.jupyter.widget-view+json": {
       "model_id": "3dae9b4bd5cd473498e4caee182d7b92",
       "version_major": 2,
       "version_minor": 0
      },
      "text/plain": [
       "  0%|          | 0/10 [00:00<?, ?it/s]"
      ]
     },
     "metadata": {},
     "output_type": "display_data"
    }
   ],
   "source": [
    "embedTSNE(folder_name = 'Smartvote', data_name = 'Original')"
   ]
  },
  {
   "cell_type": "markdown",
   "id": "1324abe4",
   "metadata": {},
   "source": [
    "### Smartvote Binary"
   ]
  },
  {
   "cell_type": "code",
   "execution_count": 12,
   "id": "d0bf068c",
   "metadata": {},
   "outputs": [
    {
     "data": {
      "application/vnd.jupyter.widget-view+json": {
       "model_id": "76800e8ed73e49ac994f227aa795f974",
       "version_major": 2,
       "version_minor": 0
      },
      "text/plain": [
       "  0%|          | 0/10 [00:00<?, ?it/s]"
      ]
     },
     "metadata": {},
     "output_type": "display_data"
    }
   ],
   "source": [
    "embedTSNE(folder_name = 'Smartvote', data_name = 'Binary')"
   ]
  },
  {
   "cell_type": "markdown",
   "id": "bcdd8675",
   "metadata": {},
   "source": [
    "### Synthetic Multiclass"
   ]
  },
  {
   "cell_type": "code",
   "execution_count": 7,
   "id": "32219bf1",
   "metadata": {},
   "outputs": [
    {
     "data": {
      "application/vnd.jupyter.widget-view+json": {
       "model_id": "3e8434a4f3d74b4597a165dd76a4d79b",
       "version_major": 2,
       "version_minor": 0
      },
      "text/plain": [
       "  0%|          | 0/10 [00:00<?, ?it/s]"
      ]
     },
     "metadata": {},
     "output_type": "display_data"
    }
   ],
   "source": [
    "embedTSNE(folder_name = 'Synthetic_60_50', data_name = 'Original')"
   ]
  },
  {
   "cell_type": "markdown",
   "id": "810f7ada",
   "metadata": {},
   "source": [
    "### Synthetic Binary"
   ]
  },
  {
   "cell_type": "code",
   "execution_count": 6,
   "id": "fcc1fcfa",
   "metadata": {},
   "outputs": [
    {
     "data": {
      "application/vnd.jupyter.widget-view+json": {
       "model_id": "d945a23cbe434048b016e02ea42e9219",
       "version_major": 2,
       "version_minor": 0
      },
      "text/plain": [
       "  0%|          | 0/10 [00:00<?, ?it/s]"
      ]
     },
     "metadata": {},
     "output_type": "display_data"
    }
   ],
   "source": [
    "embedTSNE(folder_name = 'Synthetic_60_50', data_name = 'Binary')"
   ]
  },
  {
   "cell_type": "code",
   "execution_count": null,
   "id": "daf1c324",
   "metadata": {},
   "outputs": [],
   "source": []
  }
 ],
 "metadata": {
  "kernelspec": {
   "display_name": "Python 3 (ipykernel)",
   "language": "python",
   "name": "python3"
  },
  "language_info": {
   "codemirror_mode": {
    "name": "ipython",
    "version": 3
   },
   "file_extension": ".py",
   "mimetype": "text/x-python",
   "name": "python",
   "nbconvert_exporter": "python",
   "pygments_lexer": "ipython3",
   "version": "3.9.18"
  }
 },
 "nbformat": 4,
 "nbformat_minor": 5
}
