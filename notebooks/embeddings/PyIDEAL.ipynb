{
 "cells": [
  {
   "cell_type": "code",
   "execution_count": 1,
   "id": "353e7334",
   "metadata": {},
   "outputs": [],
   "source": [
    "import sys\n",
    "sys.path.insert(0, '../../src')\n",
    "from models.IDEAL import IDEAL\n",
    "from utils import preprocession as prep\n",
    "from utils.metrics import compute_metric, add_to_metrics, columns\n",
    "\n",
    "import os\n",
    "import pandas as pd\n",
    "\n",
    "from tqdm.notebook import tqdm\n",
    "\n",
    "tqdm.pandas(leave=False, desc='Test Fit')"
   ]
  },
  {
   "cell_type": "markdown",
   "id": "c4b378db",
   "metadata": {},
   "source": [
    "## Load Smartvote Data"
   ]
  },
  {
   "cell_type": "code",
   "execution_count": 4,
   "id": "207e80ff",
   "metadata": {},
   "outputs": [],
   "source": [
    "def evaluateIDEAL(folder_name):\n",
    "\n",
    "    train, test = prep.load_data(folder_name, 'Original')\n",
    "    train_users, train_reactions = train\n",
    "    test_users, test_reactions = test\n",
    "\n",
    "    train, test = prep.load_data(folder_name, 'Binary')\n",
    "    train_users_bin, train_reactions_bin = train\n",
    "    test_users_bin, test_reactions_bin = test\n",
    "\n",
    "    method_path = f\"../../embeddings/IDEAL/{folder_name}\"\n",
    "    output_path = f\"../../embeddings/IDEAL/{folder_name}/IRT\"\n",
    "    os.makedirs(output_path, exist_ok=True)\n",
    "\n",
    "    betabar   = prep.load_all('betabar', directory=method_path)\n",
    "    xbar = prep.load_all('xbar', directory=method_path)\n",
    "\n",
    "    metrics = []\n",
    "\n",
    "    for p in tqdm(betabar.keys(), desc='Sparsity', leave=False):\n",
    "\n",
    "        ideal = IDEAL(betabar[p], xbar[p], index=train_reactions[p].index, columns=train_reactions[p].columns)\n",
    "        ideal.train_embedding.to_csv(f'{method_path}/train_embedding_{p}.csv')\n",
    "\n",
    "        train_predictions = pd.DataFrame(ideal.predict(ideal.train_embedding.values),\n",
    "                                         index=train_reactions[p].index, columns=ideal.items.index)\n",
    "        train_predictions.to_csv(f'{output_path}/train_predictions_{p}.csv')\n",
    "\n",
    "        train_result = compute_metric(train_predictions, train_reactions[0], train_reactions[p].isna(), silent=True)\n",
    "        add_to_metrics(metrics, train_result, [folder_name, 'Original', 'Train', p, 'Train', p, 'IDEAL', 'IRT'])\n",
    "\n",
    "        train_result_bin = compute_metric(train_predictions, train_reactions_bin[0], train_reactions_bin[p].isna(), silent=True)\n",
    "        add_to_metrics(metrics, train_result_bin, [folder_name, 'Binary', 'Train', p, 'Train', p, 'IDEAL', 'IRT'])\n",
    "\n",
    "        test_list = test_reactions.keys() if p == 0 else [p]\n",
    "        for q in test_list:\n",
    "            test_fit = test_reactions_bin[q].progress_apply(ideal.encode, axis=1, result_type='expand')\n",
    "\n",
    "            test_embedding = pd.DataFrame(test_fit.iloc[:,:2].values, index=test_reactions[q].index, columns=['x','y'])\n",
    "            test_embedding.to_csv(f'{method_path}/test_embedding_{p}_{q}.csv')\n",
    "\n",
    "            test_predictions = pd.DataFrame(ideal.predict(test_embedding.values),\n",
    "                                            index=test_reactions[q].index, columns=ideal.items.index)\n",
    "            test_predictions.to_csv(f'{output_path}/test_predictions_{p}_{q}.csv')\n",
    "            \n",
    "            test_result = compute_metric(test_predictions, test_reactions[0], test_reactions[q].isna(), silent=True)\n",
    "            add_to_metrics(metrics, test_result, [folder_name, 'Original', 'Train', p, 'Test', q, 'IDEAL', 'IRT'])\n",
    "\n",
    "            test_result_bin= compute_metric(test_predictions, test_reactions_bin[0], test_reactions_bin[q].isna(), silent=True)\n",
    "            add_to_metrics(metrics, test_result_bin, [folder_name, 'Binary', 'Train', p, 'Test', q, 'IDEAL', 'IRT'])\n",
    "        \n",
    "\n",
    "    metrics = pd.DataFrame(metrics, columns=columns)\n",
    "    metrics.to_csv(f'{output_path}/metrics.csv')\n",
    "    return metrics"
   ]
  },
  {
   "cell_type": "markdown",
   "id": "e64873bf",
   "metadata": {},
   "source": [
    "### Synthetic Data"
   ]
  },
  {
   "cell_type": "code",
   "execution_count": 5,
   "id": "6ccf6d50",
   "metadata": {},
   "outputs": [
    {
     "data": {
      "application/vnd.jupyter.widget-view+json": {
       "model_id": "f6fd10f6e1cc455188fd5731562da405",
       "version_major": 2,
       "version_minor": 0
      },
      "text/plain": [
       "Sparsity:   0%|          | 0/10 [00:00<?, ?it/s]"
      ]
     },
     "metadata": {},
     "output_type": "display_data"
    },
    {
     "data": {
      "application/vnd.jupyter.widget-view+json": {
       "model_id": "b7d49e9aa3fe4f979d15b1bf113de8a7",
       "version_major": 2,
       "version_minor": 0
      },
      "text/plain": [
       "Test Fit:   0%|          | 0/60 [00:00<?, ?it/s]"
      ]
     },
     "metadata": {},
     "output_type": "display_data"
    },
    {
     "data": {
      "application/vnd.jupyter.widget-view+json": {
       "model_id": "8f96e844a59f431ca2702ac5a59456f2",
       "version_major": 2,
       "version_minor": 0
      },
      "text/plain": [
       "Test Fit:   0%|          | 0/60 [00:00<?, ?it/s]"
      ]
     },
     "metadata": {},
     "output_type": "display_data"
    },
    {
     "data": {
      "application/vnd.jupyter.widget-view+json": {
       "model_id": "069caabc0f2f463daf84cfa90efd4174",
       "version_major": 2,
       "version_minor": 0
      },
      "text/plain": [
       "Test Fit:   0%|          | 0/60 [00:00<?, ?it/s]"
      ]
     },
     "metadata": {},
     "output_type": "display_data"
    },
    {
     "data": {
      "application/vnd.jupyter.widget-view+json": {
       "model_id": "cc1bb09875c04181aa05ab8e904011e8",
       "version_major": 2,
       "version_minor": 0
      },
      "text/plain": [
       "Test Fit:   0%|          | 0/60 [00:00<?, ?it/s]"
      ]
     },
     "metadata": {},
     "output_type": "display_data"
    },
    {
     "data": {
      "application/vnd.jupyter.widget-view+json": {
       "model_id": "84d78547cc7145658f4bc16f8d382624",
       "version_major": 2,
       "version_minor": 0
      },
      "text/plain": [
       "Test Fit:   0%|          | 0/60 [00:00<?, ?it/s]"
      ]
     },
     "metadata": {},
     "output_type": "display_data"
    },
    {
     "data": {
      "application/vnd.jupyter.widget-view+json": {
       "model_id": "463eafbb62614046be970a19db88ef40",
       "version_major": 2,
       "version_minor": 0
      },
      "text/plain": [
       "Test Fit:   0%|          | 0/60 [00:00<?, ?it/s]"
      ]
     },
     "metadata": {},
     "output_type": "display_data"
    },
    {
     "data": {
      "application/vnd.jupyter.widget-view+json": {
       "model_id": "4a0226ef3d074f2798e95d548b5e97d8",
       "version_major": 2,
       "version_minor": 0
      },
      "text/plain": [
       "Test Fit:   0%|          | 0/60 [00:00<?, ?it/s]"
      ]
     },
     "metadata": {},
     "output_type": "display_data"
    },
    {
     "data": {
      "application/vnd.jupyter.widget-view+json": {
       "model_id": "c0655a0d13c94488a4a7e7b21ecc7fe4",
       "version_major": 2,
       "version_minor": 0
      },
      "text/plain": [
       "Test Fit:   0%|          | 0/60 [00:00<?, ?it/s]"
      ]
     },
     "metadata": {},
     "output_type": "display_data"
    },
    {
     "data": {
      "application/vnd.jupyter.widget-view+json": {
       "model_id": "7cefc5929216414c9bf546e00a6b978b",
       "version_major": 2,
       "version_minor": 0
      },
      "text/plain": [
       "Test Fit:   0%|          | 0/60 [00:00<?, ?it/s]"
      ]
     },
     "metadata": {},
     "output_type": "display_data"
    },
    {
     "data": {
      "application/vnd.jupyter.widget-view+json": {
       "model_id": "91e0bf7ec591469e98efeafb4ab44d8e",
       "version_major": 2,
       "version_minor": 0
      },
      "text/plain": [
       "Test Fit:   0%|          | 0/60 [00:00<?, ?it/s]"
      ]
     },
     "metadata": {},
     "output_type": "display_data"
    },
    {
     "data": {
      "application/vnd.jupyter.widget-view+json": {
       "model_id": "1f320366e34b4805ba68dcca28e8161e",
       "version_major": 2,
       "version_minor": 0
      },
      "text/plain": [
       "Test Fit:   0%|          | 0/60 [00:00<?, ?it/s]"
      ]
     },
     "metadata": {},
     "output_type": "display_data"
    },
    {
     "data": {
      "application/vnd.jupyter.widget-view+json": {
       "model_id": "7128f687d6444fa498699c8e401ba324",
       "version_major": 2,
       "version_minor": 0
      },
      "text/plain": [
       "Test Fit:   0%|          | 0/60 [00:00<?, ?it/s]"
      ]
     },
     "metadata": {},
     "output_type": "display_data"
    },
    {
     "data": {
      "application/vnd.jupyter.widget-view+json": {
       "model_id": "174509c0a0ed4e2dae9dbf09d9549ce4",
       "version_major": 2,
       "version_minor": 0
      },
      "text/plain": [
       "Test Fit:   0%|          | 0/60 [00:00<?, ?it/s]"
      ]
     },
     "metadata": {},
     "output_type": "display_data"
    },
    {
     "data": {
      "application/vnd.jupyter.widget-view+json": {
       "model_id": "c9ca2e394f3d47be8de802d4123d13ec",
       "version_major": 2,
       "version_minor": 0
      },
      "text/plain": [
       "Test Fit:   0%|          | 0/60 [00:00<?, ?it/s]"
      ]
     },
     "metadata": {},
     "output_type": "display_data"
    },
    {
     "data": {
      "application/vnd.jupyter.widget-view+json": {
       "model_id": "542e5055aeec4c8ab68a60acbc0648bc",
       "version_major": 2,
       "version_minor": 0
      },
      "text/plain": [
       "Test Fit:   0%|          | 0/60 [00:00<?, ?it/s]"
      ]
     },
     "metadata": {},
     "output_type": "display_data"
    },
    {
     "data": {
      "application/vnd.jupyter.widget-view+json": {
       "model_id": "9707fafe5c9e411e8d9076eae46a6e78",
       "version_major": 2,
       "version_minor": 0
      },
      "text/plain": [
       "Test Fit:   0%|          | 0/60 [00:00<?, ?it/s]"
      ]
     },
     "metadata": {},
     "output_type": "display_data"
    },
    {
     "data": {
      "application/vnd.jupyter.widget-view+json": {
       "model_id": "a8c1b60aba4b4cfcb4014151df429be5",
       "version_major": 2,
       "version_minor": 0
      },
      "text/plain": [
       "Test Fit:   0%|          | 0/60 [00:00<?, ?it/s]"
      ]
     },
     "metadata": {},
     "output_type": "display_data"
    },
    {
     "data": {
      "application/vnd.jupyter.widget-view+json": {
       "model_id": "8e2364f271d94e889808bae7dcc3f007",
       "version_major": 2,
       "version_minor": 0
      },
      "text/plain": [
       "Test Fit:   0%|          | 0/60 [00:00<?, ?it/s]"
      ]
     },
     "metadata": {},
     "output_type": "display_data"
    },
    {
     "data": {
      "application/vnd.jupyter.widget-view+json": {
       "model_id": "fd849345766841b8b192aa082d0ebadc",
       "version_major": 2,
       "version_minor": 0
      },
      "text/plain": [
       "Test Fit:   0%|          | 0/60 [00:00<?, ?it/s]"
      ]
     },
     "metadata": {},
     "output_type": "display_data"
    },
    {
     "data": {
      "text/html": [
       "<div>\n",
       "<style scoped>\n",
       "    .dataframe tbody tr th:only-of-type {\n",
       "        vertical-align: middle;\n",
       "    }\n",
       "\n",
       "    .dataframe tbody tr th {\n",
       "        vertical-align: top;\n",
       "    }\n",
       "\n",
       "    .dataframe thead th {\n",
       "        text-align: right;\n",
       "    }\n",
       "</style>\n",
       "<table border=\"1\" class=\"dataframe\">\n",
       "  <thead>\n",
       "    <tr style=\"text-align: right;\">\n",
       "      <th></th>\n",
       "      <th>Dataset</th>\n",
       "      <th>Datatype</th>\n",
       "      <th>Train Set</th>\n",
       "      <th>Train Sparsity</th>\n",
       "      <th>Evaluation Set</th>\n",
       "      <th>Evaluation Sparsity</th>\n",
       "      <th>Embedding Method</th>\n",
       "      <th>Prediction Method</th>\n",
       "      <th>Task</th>\n",
       "      <th>Accuracy</th>\n",
       "      <th>RMSE</th>\n",
       "    </tr>\n",
       "  </thead>\n",
       "  <tbody>\n",
       "    <tr>\n",
       "      <th>0</th>\n",
       "      <td>Synthetic_60_50</td>\n",
       "      <td>Original</td>\n",
       "      <td>Train</td>\n",
       "      <td>10</td>\n",
       "      <td>Train</td>\n",
       "      <td>10</td>\n",
       "      <td>IDEAL</td>\n",
       "      <td>IRT</td>\n",
       "      <td>Fit</td>\n",
       "      <td>0.996204</td>\n",
       "      <td>0.206410</td>\n",
       "    </tr>\n",
       "    <tr>\n",
       "      <th>1</th>\n",
       "      <td>Synthetic_60_50</td>\n",
       "      <td>Original</td>\n",
       "      <td>Train</td>\n",
       "      <td>10</td>\n",
       "      <td>Train</td>\n",
       "      <td>10</td>\n",
       "      <td>IDEAL</td>\n",
       "      <td>IRT</td>\n",
       "      <td>Impute</td>\n",
       "      <td>0.973333</td>\n",
       "      <td>0.206050</td>\n",
       "    </tr>\n",
       "    <tr>\n",
       "      <th>2</th>\n",
       "      <td>Synthetic_60_50</td>\n",
       "      <td>Original</td>\n",
       "      <td>Train</td>\n",
       "      <td>10</td>\n",
       "      <td>Train</td>\n",
       "      <td>10</td>\n",
       "      <td>IDEAL</td>\n",
       "      <td>IRT</td>\n",
       "      <td>Overall</td>\n",
       "      <td>0.993917</td>\n",
       "      <td>0.206374</td>\n",
       "    </tr>\n",
       "    <tr>\n",
       "      <th>3</th>\n",
       "      <td>Synthetic_60_50</td>\n",
       "      <td>Binary</td>\n",
       "      <td>Train</td>\n",
       "      <td>10</td>\n",
       "      <td>Train</td>\n",
       "      <td>10</td>\n",
       "      <td>IDEAL</td>\n",
       "      <td>IRT</td>\n",
       "      <td>Fit</td>\n",
       "      <td>0.996204</td>\n",
       "      <td>0.068754</td>\n",
       "    </tr>\n",
       "    <tr>\n",
       "      <th>4</th>\n",
       "      <td>Synthetic_60_50</td>\n",
       "      <td>Binary</td>\n",
       "      <td>Train</td>\n",
       "      <td>10</td>\n",
       "      <td>Train</td>\n",
       "      <td>10</td>\n",
       "      <td>IDEAL</td>\n",
       "      <td>IRT</td>\n",
       "      <td>Impute</td>\n",
       "      <td>0.973333</td>\n",
       "      <td>0.134290</td>\n",
       "    </tr>\n",
       "  </tbody>\n",
       "</table>\n",
       "</div>"
      ],
      "text/plain": [
       "           Dataset  Datatype Train Set  Train Sparsity Evaluation Set  \\\n",
       "0  Synthetic_60_50  Original     Train              10          Train   \n",
       "1  Synthetic_60_50  Original     Train              10          Train   \n",
       "2  Synthetic_60_50  Original     Train              10          Train   \n",
       "3  Synthetic_60_50    Binary     Train              10          Train   \n",
       "4  Synthetic_60_50    Binary     Train              10          Train   \n",
       "\n",
       "   Evaluation Sparsity Embedding Method Prediction Method     Task  Accuracy  \\\n",
       "0                   10            IDEAL               IRT      Fit  0.996204   \n",
       "1                   10            IDEAL               IRT   Impute  0.973333   \n",
       "2                   10            IDEAL               IRT  Overall  0.993917   \n",
       "3                   10            IDEAL               IRT      Fit  0.996204   \n",
       "4                   10            IDEAL               IRT   Impute  0.973333   \n",
       "\n",
       "       RMSE  \n",
       "0  0.206410  \n",
       "1  0.206050  \n",
       "2  0.206374  \n",
       "3  0.068754  \n",
       "4  0.134290  "
      ]
     },
     "execution_count": 5,
     "metadata": {},
     "output_type": "execute_result"
    }
   ],
   "source": [
    "metrics = evaluateIDEAL('Synthetic_60_50')\n",
    "metrics.head()"
   ]
  },
  {
   "cell_type": "markdown",
   "id": "bcf5828f",
   "metadata": {},
   "source": [
    "### Smartvote"
   ]
  },
  {
   "cell_type": "code",
   "execution_count": 6,
   "id": "56672efb",
   "metadata": {},
   "outputs": [
    {
     "data": {
      "application/vnd.jupyter.widget-view+json": {
       "model_id": "bb47cd879d1547acb55b14cb48b8f907",
       "version_major": 2,
       "version_minor": 0
      },
      "text/plain": [
       "Sparsity:   0%|          | 0/10 [00:00<?, ?it/s]"
      ]
     },
     "metadata": {},
     "output_type": "display_data"
    },
    {
     "data": {
      "application/vnd.jupyter.widget-view+json": {
       "model_id": "e3e4c08646d24fedb63521ab14d4423e",
       "version_major": 2,
       "version_minor": 0
      },
      "text/plain": [
       "Test Fit:   0%|          | 0/290 [00:00<?, ?it/s]"
      ]
     },
     "metadata": {},
     "output_type": "display_data"
    },
    {
     "data": {
      "application/vnd.jupyter.widget-view+json": {
       "model_id": "38f3ee4bd8374ec0ad8549e625bb6a64",
       "version_major": 2,
       "version_minor": 0
      },
      "text/plain": [
       "Test Fit:   0%|          | 0/290 [00:00<?, ?it/s]"
      ]
     },
     "metadata": {},
     "output_type": "display_data"
    },
    {
     "data": {
      "application/vnd.jupyter.widget-view+json": {
       "model_id": "85c539b0e58e4b11b6c22982e9f33785",
       "version_major": 2,
       "version_minor": 0
      },
      "text/plain": [
       "Test Fit:   0%|          | 0/290 [00:00<?, ?it/s]"
      ]
     },
     "metadata": {},
     "output_type": "display_data"
    },
    {
     "data": {
      "application/vnd.jupyter.widget-view+json": {
       "model_id": "70063981cce64eba9e698078ed530122",
       "version_major": 2,
       "version_minor": 0
      },
      "text/plain": [
       "Test Fit:   0%|          | 0/290 [00:00<?, ?it/s]"
      ]
     },
     "metadata": {},
     "output_type": "display_data"
    },
    {
     "data": {
      "application/vnd.jupyter.widget-view+json": {
       "model_id": "a7af71f0d1934b8ca6e941576c1b669e",
       "version_major": 2,
       "version_minor": 0
      },
      "text/plain": [
       "Test Fit:   0%|          | 0/290 [00:00<?, ?it/s]"
      ]
     },
     "metadata": {},
     "output_type": "display_data"
    },
    {
     "data": {
      "application/vnd.jupyter.widget-view+json": {
       "model_id": "e055b8f855164a56b37921f723437021",
       "version_major": 2,
       "version_minor": 0
      },
      "text/plain": [
       "Test Fit:   0%|          | 0/290 [00:00<?, ?it/s]"
      ]
     },
     "metadata": {},
     "output_type": "display_data"
    },
    {
     "data": {
      "application/vnd.jupyter.widget-view+json": {
       "model_id": "db9e0f7703ad4a029782307ca71616c4",
       "version_major": 2,
       "version_minor": 0
      },
      "text/plain": [
       "Test Fit:   0%|          | 0/290 [00:00<?, ?it/s]"
      ]
     },
     "metadata": {},
     "output_type": "display_data"
    },
    {
     "data": {
      "application/vnd.jupyter.widget-view+json": {
       "model_id": "fd856180bf67462eb087fba086c9a56c",
       "version_major": 2,
       "version_minor": 0
      },
      "text/plain": [
       "Test Fit:   0%|          | 0/290 [00:00<?, ?it/s]"
      ]
     },
     "metadata": {},
     "output_type": "display_data"
    },
    {
     "data": {
      "application/vnd.jupyter.widget-view+json": {
       "model_id": "d2f3b7db8db24d06ad9c0d41f90252de",
       "version_major": 2,
       "version_minor": 0
      },
      "text/plain": [
       "Test Fit:   0%|          | 0/290 [00:00<?, ?it/s]"
      ]
     },
     "metadata": {},
     "output_type": "display_data"
    },
    {
     "data": {
      "application/vnd.jupyter.widget-view+json": {
       "model_id": "abb185d4ac464dc89bd2d4d2a6620f23",
       "version_major": 2,
       "version_minor": 0
      },
      "text/plain": [
       "Test Fit:   0%|          | 0/290 [00:00<?, ?it/s]"
      ]
     },
     "metadata": {},
     "output_type": "display_data"
    },
    {
     "data": {
      "application/vnd.jupyter.widget-view+json": {
       "model_id": "9e1a9c16a4984efda1996e1e7d004f66",
       "version_major": 2,
       "version_minor": 0
      },
      "text/plain": [
       "Test Fit:   0%|          | 0/290 [00:00<?, ?it/s]"
      ]
     },
     "metadata": {},
     "output_type": "display_data"
    },
    {
     "data": {
      "application/vnd.jupyter.widget-view+json": {
       "model_id": "1dc3f559f0ff413595c883ffaaff3d3c",
       "version_major": 2,
       "version_minor": 0
      },
      "text/plain": [
       "Test Fit:   0%|          | 0/290 [00:00<?, ?it/s]"
      ]
     },
     "metadata": {},
     "output_type": "display_data"
    },
    {
     "data": {
      "application/vnd.jupyter.widget-view+json": {
       "model_id": "bf34f2c5f25d4b2299a48a9d31056443",
       "version_major": 2,
       "version_minor": 0
      },
      "text/plain": [
       "Test Fit:   0%|          | 0/290 [00:00<?, ?it/s]"
      ]
     },
     "metadata": {},
     "output_type": "display_data"
    },
    {
     "data": {
      "application/vnd.jupyter.widget-view+json": {
       "model_id": "04dddd97892f4e7aae68852dd912bf20",
       "version_major": 2,
       "version_minor": 0
      },
      "text/plain": [
       "Test Fit:   0%|          | 0/290 [00:00<?, ?it/s]"
      ]
     },
     "metadata": {},
     "output_type": "display_data"
    },
    {
     "data": {
      "application/vnd.jupyter.widget-view+json": {
       "model_id": "310ccf62c2a54be0bc9866a892d5d55c",
       "version_major": 2,
       "version_minor": 0
      },
      "text/plain": [
       "Test Fit:   0%|          | 0/290 [00:00<?, ?it/s]"
      ]
     },
     "metadata": {},
     "output_type": "display_data"
    },
    {
     "data": {
      "application/vnd.jupyter.widget-view+json": {
       "model_id": "6963d1dfa03248eaa3c23fbf8730647f",
       "version_major": 2,
       "version_minor": 0
      },
      "text/plain": [
       "Test Fit:   0%|          | 0/290 [00:00<?, ?it/s]"
      ]
     },
     "metadata": {},
     "output_type": "display_data"
    },
    {
     "data": {
      "application/vnd.jupyter.widget-view+json": {
       "model_id": "33f7125e05ad4edeb873dd0307865ee6",
       "version_major": 2,
       "version_minor": 0
      },
      "text/plain": [
       "Test Fit:   0%|          | 0/290 [00:00<?, ?it/s]"
      ]
     },
     "metadata": {},
     "output_type": "display_data"
    },
    {
     "data": {
      "application/vnd.jupyter.widget-view+json": {
       "model_id": "c59c24d58022489faba20112a86d63c3",
       "version_major": 2,
       "version_minor": 0
      },
      "text/plain": [
       "Test Fit:   0%|          | 0/290 [00:00<?, ?it/s]"
      ]
     },
     "metadata": {},
     "output_type": "display_data"
    },
    {
     "data": {
      "application/vnd.jupyter.widget-view+json": {
       "model_id": "f153757ef13f4d50aaec9f804442ee68",
       "version_major": 2,
       "version_minor": 0
      },
      "text/plain": [
       "Test Fit:   0%|          | 0/290 [00:00<?, ?it/s]"
      ]
     },
     "metadata": {},
     "output_type": "display_data"
    },
    {
     "data": {
      "text/html": [
       "<div>\n",
       "<style scoped>\n",
       "    .dataframe tbody tr th:only-of-type {\n",
       "        vertical-align: middle;\n",
       "    }\n",
       "\n",
       "    .dataframe tbody tr th {\n",
       "        vertical-align: top;\n",
       "    }\n",
       "\n",
       "    .dataframe thead th {\n",
       "        text-align: right;\n",
       "    }\n",
       "</style>\n",
       "<table border=\"1\" class=\"dataframe\">\n",
       "  <thead>\n",
       "    <tr style=\"text-align: right;\">\n",
       "      <th></th>\n",
       "      <th>Dataset</th>\n",
       "      <th>Datatype</th>\n",
       "      <th>Train Set</th>\n",
       "      <th>Train Sparsity</th>\n",
       "      <th>Evaluation Set</th>\n",
       "      <th>Evaluation Sparsity</th>\n",
       "      <th>Embedding Method</th>\n",
       "      <th>Prediction Method</th>\n",
       "      <th>Task</th>\n",
       "      <th>Accuracy</th>\n",
       "      <th>RMSE</th>\n",
       "    </tr>\n",
       "  </thead>\n",
       "  <tbody>\n",
       "    <tr>\n",
       "      <th>0</th>\n",
       "      <td>Smartvote</td>\n",
       "      <td>Original</td>\n",
       "      <td>Train</td>\n",
       "      <td>10</td>\n",
       "      <td>Train</td>\n",
       "      <td>10</td>\n",
       "      <td>IDEAL</td>\n",
       "      <td>IRT</td>\n",
       "      <td>Fit</td>\n",
       "      <td>0.829269</td>\n",
       "      <td>0.267925</td>\n",
       "    </tr>\n",
       "    <tr>\n",
       "      <th>1</th>\n",
       "      <td>Smartvote</td>\n",
       "      <td>Original</td>\n",
       "      <td>Train</td>\n",
       "      <td>10</td>\n",
       "      <td>Train</td>\n",
       "      <td>10</td>\n",
       "      <td>IDEAL</td>\n",
       "      <td>IRT</td>\n",
       "      <td>Impute</td>\n",
       "      <td>0.814273</td>\n",
       "      <td>0.277842</td>\n",
       "    </tr>\n",
       "    <tr>\n",
       "      <th>2</th>\n",
       "      <td>Smartvote</td>\n",
       "      <td>Original</td>\n",
       "      <td>Train</td>\n",
       "      <td>10</td>\n",
       "      <td>Train</td>\n",
       "      <td>10</td>\n",
       "      <td>IDEAL</td>\n",
       "      <td>IRT</td>\n",
       "      <td>Overall</td>\n",
       "      <td>0.827670</td>\n",
       "      <td>0.268983</td>\n",
       "    </tr>\n",
       "    <tr>\n",
       "      <th>3</th>\n",
       "      <td>Smartvote</td>\n",
       "      <td>Binary</td>\n",
       "      <td>Train</td>\n",
       "      <td>10</td>\n",
       "      <td>Train</td>\n",
       "      <td>10</td>\n",
       "      <td>IDEAL</td>\n",
       "      <td>IRT</td>\n",
       "      <td>Fit</td>\n",
       "      <td>0.829269</td>\n",
       "      <td>0.342721</td>\n",
       "    </tr>\n",
       "    <tr>\n",
       "      <th>4</th>\n",
       "      <td>Smartvote</td>\n",
       "      <td>Binary</td>\n",
       "      <td>Train</td>\n",
       "      <td>10</td>\n",
       "      <td>Train</td>\n",
       "      <td>10</td>\n",
       "      <td>IDEAL</td>\n",
       "      <td>IRT</td>\n",
       "      <td>Impute</td>\n",
       "      <td>0.814273</td>\n",
       "      <td>0.355735</td>\n",
       "    </tr>\n",
       "  </tbody>\n",
       "</table>\n",
       "</div>"
      ],
      "text/plain": [
       "     Dataset  Datatype Train Set  Train Sparsity Evaluation Set  \\\n",
       "0  Smartvote  Original     Train              10          Train   \n",
       "1  Smartvote  Original     Train              10          Train   \n",
       "2  Smartvote  Original     Train              10          Train   \n",
       "3  Smartvote    Binary     Train              10          Train   \n",
       "4  Smartvote    Binary     Train              10          Train   \n",
       "\n",
       "   Evaluation Sparsity Embedding Method Prediction Method     Task  Accuracy  \\\n",
       "0                   10            IDEAL               IRT      Fit  0.829269   \n",
       "1                   10            IDEAL               IRT   Impute  0.814273   \n",
       "2                   10            IDEAL               IRT  Overall  0.827670   \n",
       "3                   10            IDEAL               IRT      Fit  0.829269   \n",
       "4                   10            IDEAL               IRT   Impute  0.814273   \n",
       "\n",
       "       RMSE  \n",
       "0  0.267925  \n",
       "1  0.277842  \n",
       "2  0.268983  \n",
       "3  0.342721  \n",
       "4  0.355735  "
      ]
     },
     "execution_count": 6,
     "metadata": {},
     "output_type": "execute_result"
    }
   ],
   "source": [
    "metrics = evaluateIDEAL('Smartvote')\n",
    "metrics.head()"
   ]
  },
  {
   "cell_type": "code",
   "execution_count": 7,
   "id": "6f53482b",
   "metadata": {},
   "outputs": [
    {
     "data": {
      "text/html": [
       "<div>\n",
       "<style scoped>\n",
       "    .dataframe tbody tr th:only-of-type {\n",
       "        vertical-align: middle;\n",
       "    }\n",
       "\n",
       "    .dataframe tbody tr th {\n",
       "        vertical-align: top;\n",
       "    }\n",
       "\n",
       "    .dataframe thead th {\n",
       "        text-align: right;\n",
       "    }\n",
       "</style>\n",
       "<table border=\"1\" class=\"dataframe\">\n",
       "  <thead>\n",
       "    <tr style=\"text-align: right;\">\n",
       "      <th></th>\n",
       "      <th>Dataset</th>\n",
       "      <th>Datatype</th>\n",
       "      <th>Train Set</th>\n",
       "      <th>Train Sparsity</th>\n",
       "      <th>Evaluation Set</th>\n",
       "      <th>Evaluation Sparsity</th>\n",
       "      <th>Embedding Method</th>\n",
       "      <th>Prediction Method</th>\n",
       "      <th>Task</th>\n",
       "      <th>Accuracy</th>\n",
       "      <th>RMSE</th>\n",
       "    </tr>\n",
       "  </thead>\n",
       "  <tbody>\n",
       "    <tr>\n",
       "      <th>48</th>\n",
       "      <td>Smartvote</td>\n",
       "      <td>Original</td>\n",
       "      <td>Train</td>\n",
       "      <td>90</td>\n",
       "      <td>Train</td>\n",
       "      <td>90</td>\n",
       "      <td>IDEAL</td>\n",
       "      <td>IRT</td>\n",
       "      <td>Fit</td>\n",
       "      <td>0.877576</td>\n",
       "      <td>0.250567</td>\n",
       "    </tr>\n",
       "    <tr>\n",
       "      <th>49</th>\n",
       "      <td>Smartvote</td>\n",
       "      <td>Original</td>\n",
       "      <td>Train</td>\n",
       "      <td>90</td>\n",
       "      <td>Train</td>\n",
       "      <td>90</td>\n",
       "      <td>IDEAL</td>\n",
       "      <td>IRT</td>\n",
       "      <td>Impute</td>\n",
       "      <td>0.763174</td>\n",
       "      <td>0.343993</td>\n",
       "    </tr>\n",
       "    <tr>\n",
       "      <th>50</th>\n",
       "      <td>Smartvote</td>\n",
       "      <td>Original</td>\n",
       "      <td>Train</td>\n",
       "      <td>90</td>\n",
       "      <td>Train</td>\n",
       "      <td>90</td>\n",
       "      <td>IDEAL</td>\n",
       "      <td>IRT</td>\n",
       "      <td>Overall</td>\n",
       "      <td>0.773851</td>\n",
       "      <td>0.335273</td>\n",
       "    </tr>\n",
       "    <tr>\n",
       "      <th>51</th>\n",
       "      <td>Smartvote</td>\n",
       "      <td>Binary</td>\n",
       "      <td>Train</td>\n",
       "      <td>90</td>\n",
       "      <td>Train</td>\n",
       "      <td>90</td>\n",
       "      <td>IDEAL</td>\n",
       "      <td>IRT</td>\n",
       "      <td>Fit</td>\n",
       "      <td>0.877576</td>\n",
       "      <td>0.291916</td>\n",
       "    </tr>\n",
       "    <tr>\n",
       "      <th>52</th>\n",
       "      <td>Smartvote</td>\n",
       "      <td>Binary</td>\n",
       "      <td>Train</td>\n",
       "      <td>90</td>\n",
       "      <td>Train</td>\n",
       "      <td>90</td>\n",
       "      <td>IDEAL</td>\n",
       "      <td>IRT</td>\n",
       "      <td>Impute</td>\n",
       "      <td>0.763174</td>\n",
       "      <td>0.413295</td>\n",
       "    </tr>\n",
       "    <tr>\n",
       "      <th>53</th>\n",
       "      <td>Smartvote</td>\n",
       "      <td>Binary</td>\n",
       "      <td>Train</td>\n",
       "      <td>90</td>\n",
       "      <td>Train</td>\n",
       "      <td>90</td>\n",
       "      <td>IDEAL</td>\n",
       "      <td>IRT</td>\n",
       "      <td>Overall</td>\n",
       "      <td>0.773851</td>\n",
       "      <td>0.401966</td>\n",
       "    </tr>\n",
       "    <tr>\n",
       "      <th>54</th>\n",
       "      <td>Smartvote</td>\n",
       "      <td>Original</td>\n",
       "      <td>Train</td>\n",
       "      <td>90</td>\n",
       "      <td>Test</td>\n",
       "      <td>90</td>\n",
       "      <td>IDEAL</td>\n",
       "      <td>IRT</td>\n",
       "      <td>Fit</td>\n",
       "      <td>0.862562</td>\n",
       "      <td>0.274722</td>\n",
       "    </tr>\n",
       "    <tr>\n",
       "      <th>55</th>\n",
       "      <td>Smartvote</td>\n",
       "      <td>Original</td>\n",
       "      <td>Train</td>\n",
       "      <td>90</td>\n",
       "      <td>Test</td>\n",
       "      <td>90</td>\n",
       "      <td>IDEAL</td>\n",
       "      <td>IRT</td>\n",
       "      <td>Impute</td>\n",
       "      <td>0.753448</td>\n",
       "      <td>0.345251</td>\n",
       "    </tr>\n",
       "    <tr>\n",
       "      <th>56</th>\n",
       "      <td>Smartvote</td>\n",
       "      <td>Original</td>\n",
       "      <td>Train</td>\n",
       "      <td>90</td>\n",
       "      <td>Test</td>\n",
       "      <td>90</td>\n",
       "      <td>IDEAL</td>\n",
       "      <td>IRT</td>\n",
       "      <td>Overall</td>\n",
       "      <td>0.763632</td>\n",
       "      <td>0.338668</td>\n",
       "    </tr>\n",
       "    <tr>\n",
       "      <th>57</th>\n",
       "      <td>Smartvote</td>\n",
       "      <td>Binary</td>\n",
       "      <td>Train</td>\n",
       "      <td>90</td>\n",
       "      <td>Test</td>\n",
       "      <td>90</td>\n",
       "      <td>IDEAL</td>\n",
       "      <td>IRT</td>\n",
       "      <td>Fit</td>\n",
       "      <td>0.862562</td>\n",
       "      <td>0.325736</td>\n",
       "    </tr>\n",
       "    <tr>\n",
       "      <th>58</th>\n",
       "      <td>Smartvote</td>\n",
       "      <td>Binary</td>\n",
       "      <td>Train</td>\n",
       "      <td>90</td>\n",
       "      <td>Test</td>\n",
       "      <td>90</td>\n",
       "      <td>IDEAL</td>\n",
       "      <td>IRT</td>\n",
       "      <td>Impute</td>\n",
       "      <td>0.753448</td>\n",
       "      <td>0.415199</td>\n",
       "    </tr>\n",
       "    <tr>\n",
       "      <th>59</th>\n",
       "      <td>Smartvote</td>\n",
       "      <td>Binary</td>\n",
       "      <td>Train</td>\n",
       "      <td>90</td>\n",
       "      <td>Test</td>\n",
       "      <td>90</td>\n",
       "      <td>IDEAL</td>\n",
       "      <td>IRT</td>\n",
       "      <td>Overall</td>\n",
       "      <td>0.763632</td>\n",
       "      <td>0.406849</td>\n",
       "    </tr>\n",
       "  </tbody>\n",
       "</table>\n",
       "</div>"
      ],
      "text/plain": [
       "      Dataset  Datatype Train Set  Train Sparsity Evaluation Set  \\\n",
       "48  Smartvote  Original     Train              90          Train   \n",
       "49  Smartvote  Original     Train              90          Train   \n",
       "50  Smartvote  Original     Train              90          Train   \n",
       "51  Smartvote    Binary     Train              90          Train   \n",
       "52  Smartvote    Binary     Train              90          Train   \n",
       "53  Smartvote    Binary     Train              90          Train   \n",
       "54  Smartvote  Original     Train              90           Test   \n",
       "55  Smartvote  Original     Train              90           Test   \n",
       "56  Smartvote  Original     Train              90           Test   \n",
       "57  Smartvote    Binary     Train              90           Test   \n",
       "58  Smartvote    Binary     Train              90           Test   \n",
       "59  Smartvote    Binary     Train              90           Test   \n",
       "\n",
       "    Evaluation Sparsity Embedding Method Prediction Method     Task  Accuracy  \\\n",
       "48                   90            IDEAL               IRT      Fit  0.877576   \n",
       "49                   90            IDEAL               IRT   Impute  0.763174   \n",
       "50                   90            IDEAL               IRT  Overall  0.773851   \n",
       "51                   90            IDEAL               IRT      Fit  0.877576   \n",
       "52                   90            IDEAL               IRT   Impute  0.763174   \n",
       "53                   90            IDEAL               IRT  Overall  0.773851   \n",
       "54                   90            IDEAL               IRT      Fit  0.862562   \n",
       "55                   90            IDEAL               IRT   Impute  0.753448   \n",
       "56                   90            IDEAL               IRT  Overall  0.763632   \n",
       "57                   90            IDEAL               IRT      Fit  0.862562   \n",
       "58                   90            IDEAL               IRT   Impute  0.753448   \n",
       "59                   90            IDEAL               IRT  Overall  0.763632   \n",
       "\n",
       "        RMSE  \n",
       "48  0.250567  \n",
       "49  0.343993  \n",
       "50  0.335273  \n",
       "51  0.291916  \n",
       "52  0.413295  \n",
       "53  0.401966  \n",
       "54  0.274722  \n",
       "55  0.345251  \n",
       "56  0.338668  \n",
       "57  0.325736  \n",
       "58  0.415199  \n",
       "59  0.406849  "
      ]
     },
     "execution_count": 7,
     "metadata": {},
     "output_type": "execute_result"
    }
   ],
   "source": [
    "metrics.loc[ metrics['Train Sparsity']==90]"
   ]
  },
  {
   "cell_type": "code",
   "execution_count": null,
   "id": "07b2449e",
   "metadata": {},
   "outputs": [],
   "source": []
  }
 ],
 "metadata": {
  "kernelspec": {
   "display_name": "Python 3 (ipykernel)",
   "language": "python",
   "name": "python3"
  },
  "language_info": {
   "codemirror_mode": {
    "name": "ipython",
    "version": 3
   },
   "file_extension": ".py",
   "mimetype": "text/x-python",
   "name": "python",
   "nbconvert_exporter": "python",
   "pygments_lexer": "ipython3",
   "version": "3.9.18"
  }
 },
 "nbformat": 4,
 "nbformat_minor": 5
}
