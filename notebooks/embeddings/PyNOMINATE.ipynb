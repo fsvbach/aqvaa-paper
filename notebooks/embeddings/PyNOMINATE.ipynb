{
 "cells": [
  {
   "cell_type": "code",
   "execution_count": 1,
   "id": "353e7334",
   "metadata": {},
   "outputs": [],
   "source": [
    "import sys\n",
    "sys.path.insert(0, '../../src')\n",
    "from models.NOMINATE import NOMINATE\n",
    "from utils import preprocession as prep\n",
    "from utils.metrics import compute_metric, add_to_metrics, columns\n",
    "\n",
    "import os\n",
    "import pandas as pd\n",
    "\n",
    "from tqdm.notebook import tqdm\n",
    "\n",
    "tqdm.pandas(leave=False, desc='Test Fit')"
   ]
  },
  {
   "cell_type": "markdown",
   "id": "c4b378db",
   "metadata": {},
   "source": [
    "## Load Smartvote Data"
   ]
  },
  {
   "cell_type": "code",
   "execution_count": 2,
   "id": "207e80ff",
   "metadata": {},
   "outputs": [],
   "source": [
    "def evaluateNOMINATE(folder_name):\n",
    "\n",
    "    train, test = prep.load_data(folder_name, 'Original')\n",
    "    train_users, train_reactions = train\n",
    "    test_users, test_reactions = test\n",
    "\n",
    "    train, test = prep.load_data(folder_name, 'Binary')\n",
    "    train_users_bin, train_reactions_bin = train\n",
    "    test_users_bin, test_reactions_bin = test\n",
    "\n",
    "    method_path = f\"../../embeddings/NOMINATE/{folder_name}\"\n",
    "    output_path = f\"../../embeddings/NOMINATE/{folder_name}/IRT\"\n",
    "\n",
    "    os.makedirs(output_path, exist_ok=True)\n",
    "\n",
    "    rollcalls   = prep.load_all('rollcalls', directory=method_path)\n",
    "    legislators = prep.load_all('legislators', directory=method_path)\n",
    "\n",
    "    metrics = []\n",
    "\n",
    "    for p in tqdm(legislators.keys(), desc='Sparsity', leave=False):\n",
    "\n",
    "        nominate = NOMINATE(legislators[p], rollcalls[p], index=train_reactions[p].index)\n",
    "        nominate.train_embedding.to_csv(f'{method_path}/train_embedding_{p}.csv')\n",
    "\n",
    "        train_predictions = pd.DataFrame(nominate.predict(nominate.train_embedding.values),\n",
    "                                         index=train_reactions[p].index, columns=nominate.items.index)\n",
    "        train_predictions.to_csv(f'{output_path}/train_predictions_{p}.csv')\n",
    "\n",
    "        train_result = compute_metric(train_predictions, train_reactions[0], train_reactions[p].isna(), silent=True)\n",
    "        add_to_metrics(metrics, train_result, [folder_name, 'Original', 'Train', p, 'Train', p, 'NOMINATE', 'IRT'])\n",
    "\n",
    "        train_result_bin = compute_metric(train_predictions, train_reactions_bin[0], train_reactions_bin[p].isna(), silent=True)\n",
    "        add_to_metrics(metrics, train_result_bin, [folder_name, 'Binary', 'Train', p, 'Train', p, 'NOMINATE', 'IRT'])\n",
    "\n",
    "        test_list = test_reactions.keys() if p == 0 else [p]\n",
    "        for q in test_list:\n",
    "            test_fit = test_reactions_bin[q].progress_apply(nominate.encode, axis=1, result_type='expand')\n",
    "\n",
    "            test_embedding = pd.DataFrame(test_fit.iloc[:,:2].values, index=test_reactions[q].index, columns=['x','y'])\n",
    "            test_embedding.to_csv(f'{method_path}/test_embedding_{p}_{q}.csv')\n",
    "\n",
    "            test_predictions = pd.DataFrame(nominate.predict(test_embedding.values),\n",
    "                                            index=test_reactions[q].index, columns=nominate.items.index)\n",
    "            test_predictions.to_csv(f'{output_path}/test_predictions_{p}_{q}.csv')\n",
    "            \n",
    "            test_result = compute_metric(test_predictions, test_reactions[0], test_reactions[q].isna(), silent=True)\n",
    "            add_to_metrics(metrics, test_result, [folder_name, 'Original', 'Train', p, 'Test', q, 'NOMINATE', 'IRT'])\n",
    "\n",
    "            test_result_bin= compute_metric(test_predictions, test_reactions_bin[0], test_reactions_bin[q].isna(), silent=True)\n",
    "            add_to_metrics(metrics, test_result_bin, [folder_name, 'Binary', 'Train', p, 'Test', q, 'NOMINATE', 'IRT'])\n",
    "        \n",
    "\n",
    "    metrics = pd.DataFrame(metrics, columns=columns)\n",
    "    metrics.to_csv(f'{output_path}/metrics.csv')\n",
    "    return metrics"
   ]
  },
  {
   "cell_type": "markdown",
   "id": "e64873bf",
   "metadata": {},
   "source": [
    "### Synthetic Data"
   ]
  },
  {
   "cell_type": "code",
   "execution_count": 3,
   "id": "6ccf6d50",
   "metadata": {},
   "outputs": [
    {
     "data": {
      "application/vnd.jupyter.widget-view+json": {
       "model_id": "d4ea9995583345e19839fe8dfae557e1",
       "version_major": 2,
       "version_minor": 0
      },
      "text/plain": [
       "Sparsity:   0%|          | 0/8 [00:00<?, ?it/s]"
      ]
     },
     "metadata": {},
     "output_type": "display_data"
    },
    {
     "data": {
      "application/vnd.jupyter.widget-view+json": {
       "model_id": "3b2b260399534166b23fc6e62ba9b369",
       "version_major": 2,
       "version_minor": 0
      },
      "text/plain": [
       "Test Fit:   0%|          | 0/60 [00:00<?, ?it/s]"
      ]
     },
     "metadata": {},
     "output_type": "display_data"
    },
    {
     "name": "stdout",
     "output_type": "stream",
     "text": [
      "Predictions contain np.NaN\n",
      "Predictions contain np.NaN\n"
     ]
    },
    {
     "data": {
      "application/vnd.jupyter.widget-view+json": {
       "model_id": "1e44a9ef4ca648dd8edaa49bccb31722",
       "version_major": 2,
       "version_minor": 0
      },
      "text/plain": [
       "Test Fit:   0%|          | 0/60 [00:00<?, ?it/s]"
      ]
     },
     "metadata": {},
     "output_type": "display_data"
    },
    {
     "name": "stdout",
     "output_type": "stream",
     "text": [
      "Predictions contain np.NaN\n",
      "Predictions contain np.NaN\n"
     ]
    },
    {
     "data": {
      "application/vnd.jupyter.widget-view+json": {
       "model_id": "b327c209ac434fc1a16df914fad45325",
       "version_major": 2,
       "version_minor": 0
      },
      "text/plain": [
       "Test Fit:   0%|          | 0/60 [00:00<?, ?it/s]"
      ]
     },
     "metadata": {},
     "output_type": "display_data"
    },
    {
     "data": {
      "application/vnd.jupyter.widget-view+json": {
       "model_id": "d9e3e4422bc6433ea6963065a0cd49f6",
       "version_major": 2,
       "version_minor": 0
      },
      "text/plain": [
       "Test Fit:   0%|          | 0/60 [00:00<?, ?it/s]"
      ]
     },
     "metadata": {},
     "output_type": "display_data"
    },
    {
     "name": "stdout",
     "output_type": "stream",
     "text": [
      "Predictions contain np.NaN\n",
      "Predictions contain np.NaN\n"
     ]
    },
    {
     "data": {
      "application/vnd.jupyter.widget-view+json": {
       "model_id": "2ae7d85cbac14c3282cdd1aacfc3bddb",
       "version_major": 2,
       "version_minor": 0
      },
      "text/plain": [
       "Test Fit:   0%|          | 0/60 [00:00<?, ?it/s]"
      ]
     },
     "metadata": {},
     "output_type": "display_data"
    },
    {
     "name": "stdout",
     "output_type": "stream",
     "text": [
      "Predictions contain np.NaN\n",
      "Predictions contain np.NaN\n"
     ]
    },
    {
     "data": {
      "application/vnd.jupyter.widget-view+json": {
       "model_id": "c3eeb01c50af4652acbefcfda05ced4c",
       "version_major": 2,
       "version_minor": 0
      },
      "text/plain": [
       "Test Fit:   0%|          | 0/60 [00:00<?, ?it/s]"
      ]
     },
     "metadata": {},
     "output_type": "display_data"
    },
    {
     "data": {
      "application/vnd.jupyter.widget-view+json": {
       "model_id": "9ef29ec740814e2e82352b4db6168152",
       "version_major": 2,
       "version_minor": 0
      },
      "text/plain": [
       "Test Fit:   0%|          | 0/60 [00:00<?, ?it/s]"
      ]
     },
     "metadata": {},
     "output_type": "display_data"
    },
    {
     "data": {
      "application/vnd.jupyter.widget-view+json": {
       "model_id": "12ce11bbcbc1475383d3daaad7d3782b",
       "version_major": 2,
       "version_minor": 0
      },
      "text/plain": [
       "Test Fit:   0%|          | 0/60 [00:00<?, ?it/s]"
      ]
     },
     "metadata": {},
     "output_type": "display_data"
    },
    {
     "data": {
      "application/vnd.jupyter.widget-view+json": {
       "model_id": "50b5b13045334e32bcb8e24ad90f2409",
       "version_major": 2,
       "version_minor": 0
      },
      "text/plain": [
       "Test Fit:   0%|          | 0/60 [00:00<?, ?it/s]"
      ]
     },
     "metadata": {},
     "output_type": "display_data"
    },
    {
     "data": {
      "application/vnd.jupyter.widget-view+json": {
       "model_id": "1516fd7e19194a97b8c835ad9b41fab1",
       "version_major": 2,
       "version_minor": 0
      },
      "text/plain": [
       "Test Fit:   0%|          | 0/60 [00:00<?, ?it/s]"
      ]
     },
     "metadata": {},
     "output_type": "display_data"
    },
    {
     "data": {
      "application/vnd.jupyter.widget-view+json": {
       "model_id": "35769c38a25a4440b5c0efcb84236948",
       "version_major": 2,
       "version_minor": 0
      },
      "text/plain": [
       "Test Fit:   0%|          | 0/60 [00:00<?, ?it/s]"
      ]
     },
     "metadata": {},
     "output_type": "display_data"
    },
    {
     "data": {
      "application/vnd.jupyter.widget-view+json": {
       "model_id": "3acd1ed61f624fd9b4b9e2b70ea38f29",
       "version_major": 2,
       "version_minor": 0
      },
      "text/plain": [
       "Test Fit:   0%|          | 0/60 [00:00<?, ?it/s]"
      ]
     },
     "metadata": {},
     "output_type": "display_data"
    },
    {
     "data": {
      "application/vnd.jupyter.widget-view+json": {
       "model_id": "a500c35ba8674ddd9c8b0586c899b4d2",
       "version_major": 2,
       "version_minor": 0
      },
      "text/plain": [
       "Test Fit:   0%|          | 0/60 [00:00<?, ?it/s]"
      ]
     },
     "metadata": {},
     "output_type": "display_data"
    },
    {
     "data": {
      "application/vnd.jupyter.widget-view+json": {
       "model_id": "ecfffe180a6c44aa8dd89e028e28b369",
       "version_major": 2,
       "version_minor": 0
      },
      "text/plain": [
       "Test Fit:   0%|          | 0/60 [00:00<?, ?it/s]"
      ]
     },
     "metadata": {},
     "output_type": "display_data"
    },
    {
     "data": {
      "application/vnd.jupyter.widget-view+json": {
       "model_id": "d16964cc297442fb892ad10b6c980563",
       "version_major": 2,
       "version_minor": 0
      },
      "text/plain": [
       "Test Fit:   0%|          | 0/60 [00:00<?, ?it/s]"
      ]
     },
     "metadata": {},
     "output_type": "display_data"
    },
    {
     "data": {
      "application/vnd.jupyter.widget-view+json": {
       "model_id": "6f7e81fd14db4a5791b4e1878db34b2f",
       "version_major": 2,
       "version_minor": 0
      },
      "text/plain": [
       "Test Fit:   0%|          | 0/60 [00:00<?, ?it/s]"
      ]
     },
     "metadata": {},
     "output_type": "display_data"
    },
    {
     "data": {
      "application/vnd.jupyter.widget-view+json": {
       "model_id": "cf4038e089aa4bf999fdc3a4f0c9d2d2",
       "version_major": 2,
       "version_minor": 0
      },
      "text/plain": [
       "Test Fit:   0%|          | 0/60 [00:00<?, ?it/s]"
      ]
     },
     "metadata": {},
     "output_type": "display_data"
    },
    {
     "data": {
      "text/html": [
       "<div>\n",
       "<style scoped>\n",
       "    .dataframe tbody tr th:only-of-type {\n",
       "        vertical-align: middle;\n",
       "    }\n",
       "\n",
       "    .dataframe tbody tr th {\n",
       "        vertical-align: top;\n",
       "    }\n",
       "\n",
       "    .dataframe thead th {\n",
       "        text-align: right;\n",
       "    }\n",
       "</style>\n",
       "<table border=\"1\" class=\"dataframe\">\n",
       "  <thead>\n",
       "    <tr style=\"text-align: right;\">\n",
       "      <th></th>\n",
       "      <th>Dataset</th>\n",
       "      <th>Datatype</th>\n",
       "      <th>Train Set</th>\n",
       "      <th>Train Sparsity</th>\n",
       "      <th>Evaluation Set</th>\n",
       "      <th>Evaluation Sparsity</th>\n",
       "      <th>Embedding Method</th>\n",
       "      <th>Prediction Method</th>\n",
       "      <th>Task</th>\n",
       "      <th>Accuracy</th>\n",
       "      <th>RMSE</th>\n",
       "    </tr>\n",
       "  </thead>\n",
       "  <tbody>\n",
       "    <tr>\n",
       "      <th>0</th>\n",
       "      <td>Synthetic_60_50</td>\n",
       "      <td>Original</td>\n",
       "      <td>Train</td>\n",
       "      <td>10</td>\n",
       "      <td>Train</td>\n",
       "      <td>10</td>\n",
       "      <td>NOMINATE</td>\n",
       "      <td>IRT</td>\n",
       "      <td>Fit</td>\n",
       "      <td>0.970278</td>\n",
       "      <td>0.153791</td>\n",
       "    </tr>\n",
       "    <tr>\n",
       "      <th>1</th>\n",
       "      <td>Synthetic_60_50</td>\n",
       "      <td>Original</td>\n",
       "      <td>Train</td>\n",
       "      <td>10</td>\n",
       "      <td>Train</td>\n",
       "      <td>10</td>\n",
       "      <td>NOMINATE</td>\n",
       "      <td>IRT</td>\n",
       "      <td>Impute</td>\n",
       "      <td>0.952500</td>\n",
       "      <td>0.164852</td>\n",
       "    </tr>\n",
       "    <tr>\n",
       "      <th>2</th>\n",
       "      <td>Synthetic_60_50</td>\n",
       "      <td>Original</td>\n",
       "      <td>Train</td>\n",
       "      <td>10</td>\n",
       "      <td>Train</td>\n",
       "      <td>10</td>\n",
       "      <td>NOMINATE</td>\n",
       "      <td>IRT</td>\n",
       "      <td>Overall</td>\n",
       "      <td>0.968500</td>\n",
       "      <td>0.154897</td>\n",
       "    </tr>\n",
       "    <tr>\n",
       "      <th>3</th>\n",
       "      <td>Synthetic_60_50</td>\n",
       "      <td>Binary</td>\n",
       "      <td>Train</td>\n",
       "      <td>10</td>\n",
       "      <td>Train</td>\n",
       "      <td>10</td>\n",
       "      <td>NOMINATE</td>\n",
       "      <td>IRT</td>\n",
       "      <td>Fit</td>\n",
       "      <td>0.970278</td>\n",
       "      <td>0.191706</td>\n",
       "    </tr>\n",
       "    <tr>\n",
       "      <th>4</th>\n",
       "      <td>Synthetic_60_50</td>\n",
       "      <td>Binary</td>\n",
       "      <td>Train</td>\n",
       "      <td>10</td>\n",
       "      <td>Train</td>\n",
       "      <td>10</td>\n",
       "      <td>NOMINATE</td>\n",
       "      <td>IRT</td>\n",
       "      <td>Impute</td>\n",
       "      <td>0.952500</td>\n",
       "      <td>0.213940</td>\n",
       "    </tr>\n",
       "  </tbody>\n",
       "</table>\n",
       "</div>"
      ],
      "text/plain": [
       "           Dataset  Datatype Train Set  Train Sparsity Evaluation Set  \\\n",
       "0  Synthetic_60_50  Original     Train              10          Train   \n",
       "1  Synthetic_60_50  Original     Train              10          Train   \n",
       "2  Synthetic_60_50  Original     Train              10          Train   \n",
       "3  Synthetic_60_50    Binary     Train              10          Train   \n",
       "4  Synthetic_60_50    Binary     Train              10          Train   \n",
       "\n",
       "   Evaluation Sparsity Embedding Method Prediction Method     Task  Accuracy  \\\n",
       "0                   10         NOMINATE               IRT      Fit  0.970278   \n",
       "1                   10         NOMINATE               IRT   Impute  0.952500   \n",
       "2                   10         NOMINATE               IRT  Overall  0.968500   \n",
       "3                   10         NOMINATE               IRT      Fit  0.970278   \n",
       "4                   10         NOMINATE               IRT   Impute  0.952500   \n",
       "\n",
       "       RMSE  \n",
       "0  0.153791  \n",
       "1  0.164852  \n",
       "2  0.154897  \n",
       "3  0.191706  \n",
       "4  0.213940  "
      ]
     },
     "execution_count": 3,
     "metadata": {},
     "output_type": "execute_result"
    }
   ],
   "source": [
    "metrics = evaluateNOMINATE('Synthetic_60_50')\n",
    "metrics.head()"
   ]
  },
  {
   "cell_type": "markdown",
   "id": "bcf5828f",
   "metadata": {},
   "source": [
    "### Smartvote"
   ]
  },
  {
   "cell_type": "code",
   "execution_count": 4,
   "id": "56672efb",
   "metadata": {},
   "outputs": [
    {
     "data": {
      "application/vnd.jupyter.widget-view+json": {
       "model_id": "eb24a44d4b6c4ea0aac3d19403852c46",
       "version_major": 2,
       "version_minor": 0
      },
      "text/plain": [
       "Sparsity:   0%|          | 0/9 [00:00<?, ?it/s]"
      ]
     },
     "metadata": {},
     "output_type": "display_data"
    },
    {
     "data": {
      "application/vnd.jupyter.widget-view+json": {
       "model_id": "6207063b77344bfe81549310a9364a85",
       "version_major": 2,
       "version_minor": 0
      },
      "text/plain": [
       "Test Fit:   0%|          | 0/290 [00:00<?, ?it/s]"
      ]
     },
     "metadata": {},
     "output_type": "display_data"
    },
    {
     "data": {
      "application/vnd.jupyter.widget-view+json": {
       "model_id": "e6c2bcd4a14648c388bbeba5d79c007b",
       "version_major": 2,
       "version_minor": 0
      },
      "text/plain": [
       "Test Fit:   0%|          | 0/290 [00:00<?, ?it/s]"
      ]
     },
     "metadata": {},
     "output_type": "display_data"
    },
    {
     "data": {
      "application/vnd.jupyter.widget-view+json": {
       "model_id": "47f54dcea9ff41489837a5258f9a7123",
       "version_major": 2,
       "version_minor": 0
      },
      "text/plain": [
       "Test Fit:   0%|          | 0/290 [00:00<?, ?it/s]"
      ]
     },
     "metadata": {},
     "output_type": "display_data"
    },
    {
     "data": {
      "application/vnd.jupyter.widget-view+json": {
       "model_id": "d9fe2afc47954f6ba97491ef57b7e45c",
       "version_major": 2,
       "version_minor": 0
      },
      "text/plain": [
       "Test Fit:   0%|          | 0/290 [00:00<?, ?it/s]"
      ]
     },
     "metadata": {},
     "output_type": "display_data"
    },
    {
     "data": {
      "application/vnd.jupyter.widget-view+json": {
       "model_id": "f01f64cfb78e429bba39ea51c5d068b2",
       "version_major": 2,
       "version_minor": 0
      },
      "text/plain": [
       "Test Fit:   0%|          | 0/290 [00:00<?, ?it/s]"
      ]
     },
     "metadata": {},
     "output_type": "display_data"
    },
    {
     "data": {
      "application/vnd.jupyter.widget-view+json": {
       "model_id": "2083603d55fc4935b1dc46a351bc8713",
       "version_major": 2,
       "version_minor": 0
      },
      "text/plain": [
       "Test Fit:   0%|          | 0/290 [00:00<?, ?it/s]"
      ]
     },
     "metadata": {},
     "output_type": "display_data"
    },
    {
     "data": {
      "application/vnd.jupyter.widget-view+json": {
       "model_id": "3ac4e612378f4850ad54a2c94835098b",
       "version_major": 2,
       "version_minor": 0
      },
      "text/plain": [
       "Test Fit:   0%|          | 0/290 [00:00<?, ?it/s]"
      ]
     },
     "metadata": {},
     "output_type": "display_data"
    },
    {
     "data": {
      "application/vnd.jupyter.widget-view+json": {
       "model_id": "ce57541eeda045c59b922e0eb14b9f31",
       "version_major": 2,
       "version_minor": 0
      },
      "text/plain": [
       "Test Fit:   0%|          | 0/290 [00:00<?, ?it/s]"
      ]
     },
     "metadata": {},
     "output_type": "display_data"
    },
    {
     "data": {
      "application/vnd.jupyter.widget-view+json": {
       "model_id": "815b48edf0414b3ba4d1682897695a7d",
       "version_major": 2,
       "version_minor": 0
      },
      "text/plain": [
       "Test Fit:   0%|          | 0/290 [00:00<?, ?it/s]"
      ]
     },
     "metadata": {},
     "output_type": "display_data"
    },
    {
     "data": {
      "application/vnd.jupyter.widget-view+json": {
       "model_id": "7c22e70c7e004e7c86c42cf5455433a1",
       "version_major": 2,
       "version_minor": 0
      },
      "text/plain": [
       "Test Fit:   0%|          | 0/290 [00:00<?, ?it/s]"
      ]
     },
     "metadata": {},
     "output_type": "display_data"
    },
    {
     "data": {
      "application/vnd.jupyter.widget-view+json": {
       "model_id": "3f6547510e9b4180a3492292b1ceb0ad",
       "version_major": 2,
       "version_minor": 0
      },
      "text/plain": [
       "Test Fit:   0%|          | 0/290 [00:00<?, ?it/s]"
      ]
     },
     "metadata": {},
     "output_type": "display_data"
    },
    {
     "data": {
      "application/vnd.jupyter.widget-view+json": {
       "model_id": "10d7e3af7dd249468d57caef4df33bf9",
       "version_major": 2,
       "version_minor": 0
      },
      "text/plain": [
       "Test Fit:   0%|          | 0/290 [00:00<?, ?it/s]"
      ]
     },
     "metadata": {},
     "output_type": "display_data"
    },
    {
     "data": {
      "application/vnd.jupyter.widget-view+json": {
       "model_id": "e30f463d4f614f2aae2f3871a78b08f6",
       "version_major": 2,
       "version_minor": 0
      },
      "text/plain": [
       "Test Fit:   0%|          | 0/290 [00:00<?, ?it/s]"
      ]
     },
     "metadata": {},
     "output_type": "display_data"
    },
    {
     "data": {
      "application/vnd.jupyter.widget-view+json": {
       "model_id": "4c1f902a93b8431caedaab1102d2ddae",
       "version_major": 2,
       "version_minor": 0
      },
      "text/plain": [
       "Test Fit:   0%|          | 0/290 [00:00<?, ?it/s]"
      ]
     },
     "metadata": {},
     "output_type": "display_data"
    },
    {
     "data": {
      "application/vnd.jupyter.widget-view+json": {
       "model_id": "b7d6c11a7cae4160883937c6f17c7668",
       "version_major": 2,
       "version_minor": 0
      },
      "text/plain": [
       "Test Fit:   0%|          | 0/290 [00:00<?, ?it/s]"
      ]
     },
     "metadata": {},
     "output_type": "display_data"
    },
    {
     "data": {
      "application/vnd.jupyter.widget-view+json": {
       "model_id": "0f45ced74e96418d990d300a080fce35",
       "version_major": 2,
       "version_minor": 0
      },
      "text/plain": [
       "Test Fit:   0%|          | 0/290 [00:00<?, ?it/s]"
      ]
     },
     "metadata": {},
     "output_type": "display_data"
    },
    {
     "data": {
      "application/vnd.jupyter.widget-view+json": {
       "model_id": "b33335aed5d146c7b3bf2971c2e44d8f",
       "version_major": 2,
       "version_minor": 0
      },
      "text/plain": [
       "Test Fit:   0%|          | 0/290 [00:00<?, ?it/s]"
      ]
     },
     "metadata": {},
     "output_type": "display_data"
    },
    {
     "data": {
      "application/vnd.jupyter.widget-view+json": {
       "model_id": "716ec7c65ad74bfbaf6e699809ff76f1",
       "version_major": 2,
       "version_minor": 0
      },
      "text/plain": [
       "Test Fit:   0%|          | 0/290 [00:00<?, ?it/s]"
      ]
     },
     "metadata": {},
     "output_type": "display_data"
    },
    {
     "data": {
      "text/html": [
       "<div>\n",
       "<style scoped>\n",
       "    .dataframe tbody tr th:only-of-type {\n",
       "        vertical-align: middle;\n",
       "    }\n",
       "\n",
       "    .dataframe tbody tr th {\n",
       "        vertical-align: top;\n",
       "    }\n",
       "\n",
       "    .dataframe thead th {\n",
       "        text-align: right;\n",
       "    }\n",
       "</style>\n",
       "<table border=\"1\" class=\"dataframe\">\n",
       "  <thead>\n",
       "    <tr style=\"text-align: right;\">\n",
       "      <th></th>\n",
       "      <th>Dataset</th>\n",
       "      <th>Datatype</th>\n",
       "      <th>Train Set</th>\n",
       "      <th>Train Sparsity</th>\n",
       "      <th>Evaluation Set</th>\n",
       "      <th>Evaluation Sparsity</th>\n",
       "      <th>Embedding Method</th>\n",
       "      <th>Prediction Method</th>\n",
       "      <th>Task</th>\n",
       "      <th>Accuracy</th>\n",
       "      <th>RMSE</th>\n",
       "    </tr>\n",
       "  </thead>\n",
       "  <tbody>\n",
       "    <tr>\n",
       "      <th>0</th>\n",
       "      <td>Smartvote</td>\n",
       "      <td>Original</td>\n",
       "      <td>Train</td>\n",
       "      <td>10</td>\n",
       "      <td>Train</td>\n",
       "      <td>10</td>\n",
       "      <td>NOMINATE</td>\n",
       "      <td>IRT</td>\n",
       "      <td>Fit</td>\n",
       "      <td>0.831468</td>\n",
       "      <td>0.268485</td>\n",
       "    </tr>\n",
       "    <tr>\n",
       "      <th>1</th>\n",
       "      <td>Smartvote</td>\n",
       "      <td>Original</td>\n",
       "      <td>Train</td>\n",
       "      <td>10</td>\n",
       "      <td>Train</td>\n",
       "      <td>10</td>\n",
       "      <td>NOMINATE</td>\n",
       "      <td>IRT</td>\n",
       "      <td>Impute</td>\n",
       "      <td>0.813810</td>\n",
       "      <td>0.278854</td>\n",
       "    </tr>\n",
       "    <tr>\n",
       "      <th>2</th>\n",
       "      <td>Smartvote</td>\n",
       "      <td>Original</td>\n",
       "      <td>Train</td>\n",
       "      <td>10</td>\n",
       "      <td>Train</td>\n",
       "      <td>10</td>\n",
       "      <td>NOMINATE</td>\n",
       "      <td>IRT</td>\n",
       "      <td>Overall</td>\n",
       "      <td>0.829585</td>\n",
       "      <td>0.269591</td>\n",
       "    </tr>\n",
       "    <tr>\n",
       "      <th>3</th>\n",
       "      <td>Smartvote</td>\n",
       "      <td>Binary</td>\n",
       "      <td>Train</td>\n",
       "      <td>10</td>\n",
       "      <td>Train</td>\n",
       "      <td>10</td>\n",
       "      <td>NOMINATE</td>\n",
       "      <td>IRT</td>\n",
       "      <td>Fit</td>\n",
       "      <td>0.831468</td>\n",
       "      <td>0.352462</td>\n",
       "    </tr>\n",
       "    <tr>\n",
       "      <th>4</th>\n",
       "      <td>Smartvote</td>\n",
       "      <td>Binary</td>\n",
       "      <td>Train</td>\n",
       "      <td>10</td>\n",
       "      <td>Train</td>\n",
       "      <td>10</td>\n",
       "      <td>NOMINATE</td>\n",
       "      <td>IRT</td>\n",
       "      <td>Impute</td>\n",
       "      <td>0.813810</td>\n",
       "      <td>0.365422</td>\n",
       "    </tr>\n",
       "    <tr>\n",
       "      <th>...</th>\n",
       "      <td>...</td>\n",
       "      <td>...</td>\n",
       "      <td>...</td>\n",
       "      <td>...</td>\n",
       "      <td>...</td>\n",
       "      <td>...</td>\n",
       "      <td>...</td>\n",
       "      <td>...</td>\n",
       "      <td>...</td>\n",
       "      <td>...</td>\n",
       "      <td>...</td>\n",
       "    </tr>\n",
       "    <tr>\n",
       "      <th>157</th>\n",
       "      <td>Smartvote</td>\n",
       "      <td>Original</td>\n",
       "      <td>Train</td>\n",
       "      <td>30</td>\n",
       "      <td>Test</td>\n",
       "      <td>30</td>\n",
       "      <td>NOMINATE</td>\n",
       "      <td>IRT</td>\n",
       "      <td>Impute</td>\n",
       "      <td>0.810815</td>\n",
       "      <td>0.282026</td>\n",
       "    </tr>\n",
       "    <tr>\n",
       "      <th>158</th>\n",
       "      <td>Smartvote</td>\n",
       "      <td>Original</td>\n",
       "      <td>Train</td>\n",
       "      <td>30</td>\n",
       "      <td>Test</td>\n",
       "      <td>30</td>\n",
       "      <td>NOMINATE</td>\n",
       "      <td>IRT</td>\n",
       "      <td>Overall</td>\n",
       "      <td>0.822299</td>\n",
       "      <td>0.273701</td>\n",
       "    </tr>\n",
       "    <tr>\n",
       "      <th>159</th>\n",
       "      <td>Smartvote</td>\n",
       "      <td>Binary</td>\n",
       "      <td>Train</td>\n",
       "      <td>30</td>\n",
       "      <td>Test</td>\n",
       "      <td>30</td>\n",
       "      <td>NOMINATE</td>\n",
       "      <td>IRT</td>\n",
       "      <td>Fit</td>\n",
       "      <td>0.827066</td>\n",
       "      <td>0.353138</td>\n",
       "    </tr>\n",
       "    <tr>\n",
       "      <th>160</th>\n",
       "      <td>Smartvote</td>\n",
       "      <td>Binary</td>\n",
       "      <td>Train</td>\n",
       "      <td>30</td>\n",
       "      <td>Test</td>\n",
       "      <td>30</td>\n",
       "      <td>NOMINATE</td>\n",
       "      <td>IRT</td>\n",
       "      <td>Impute</td>\n",
       "      <td>0.810815</td>\n",
       "      <td>0.368344</td>\n",
       "    </tr>\n",
       "    <tr>\n",
       "      <th>161</th>\n",
       "      <td>Smartvote</td>\n",
       "      <td>Binary</td>\n",
       "      <td>Train</td>\n",
       "      <td>30</td>\n",
       "      <td>Test</td>\n",
       "      <td>30</td>\n",
       "      <td>NOMINATE</td>\n",
       "      <td>IRT</td>\n",
       "      <td>Overall</td>\n",
       "      <td>0.822299</td>\n",
       "      <td>0.357598</td>\n",
       "    </tr>\n",
       "  </tbody>\n",
       "</table>\n",
       "<p>162 rows × 11 columns</p>\n",
       "</div>"
      ],
      "text/plain": [
       "       Dataset  Datatype Train Set  Train Sparsity Evaluation Set  \\\n",
       "0    Smartvote  Original     Train              10          Train   \n",
       "1    Smartvote  Original     Train              10          Train   \n",
       "2    Smartvote  Original     Train              10          Train   \n",
       "3    Smartvote    Binary     Train              10          Train   \n",
       "4    Smartvote    Binary     Train              10          Train   \n",
       "..         ...       ...       ...             ...            ...   \n",
       "157  Smartvote  Original     Train              30           Test   \n",
       "158  Smartvote  Original     Train              30           Test   \n",
       "159  Smartvote    Binary     Train              30           Test   \n",
       "160  Smartvote    Binary     Train              30           Test   \n",
       "161  Smartvote    Binary     Train              30           Test   \n",
       "\n",
       "     Evaluation Sparsity Embedding Method Prediction Method     Task  \\\n",
       "0                     10         NOMINATE               IRT      Fit   \n",
       "1                     10         NOMINATE               IRT   Impute   \n",
       "2                     10         NOMINATE               IRT  Overall   \n",
       "3                     10         NOMINATE               IRT      Fit   \n",
       "4                     10         NOMINATE               IRT   Impute   \n",
       "..                   ...              ...               ...      ...   \n",
       "157                   30         NOMINATE               IRT   Impute   \n",
       "158                   30         NOMINATE               IRT  Overall   \n",
       "159                   30         NOMINATE               IRT      Fit   \n",
       "160                   30         NOMINATE               IRT   Impute   \n",
       "161                   30         NOMINATE               IRT  Overall   \n",
       "\n",
       "     Accuracy      RMSE  \n",
       "0    0.831468  0.268485  \n",
       "1    0.813810  0.278854  \n",
       "2    0.829585  0.269591  \n",
       "3    0.831468  0.352462  \n",
       "4    0.813810  0.365422  \n",
       "..        ...       ...  \n",
       "157  0.810815  0.282026  \n",
       "158  0.822299  0.273701  \n",
       "159  0.827066  0.353138  \n",
       "160  0.810815  0.368344  \n",
       "161  0.822299  0.357598  \n",
       "\n",
       "[162 rows x 11 columns]"
      ]
     },
     "execution_count": 4,
     "metadata": {},
     "output_type": "execute_result"
    }
   ],
   "source": [
    "metrics = evaluateNOMINATE('Smartvote')\n",
    "metrics"
   ]
  },
  {
   "cell_type": "code",
   "execution_count": 5,
   "id": "6f53482b",
   "metadata": {},
   "outputs": [
    {
     "data": {
      "text/html": [
       "<div>\n",
       "<style scoped>\n",
       "    .dataframe tbody tr th:only-of-type {\n",
       "        vertical-align: middle;\n",
       "    }\n",
       "\n",
       "    .dataframe tbody tr th {\n",
       "        vertical-align: top;\n",
       "    }\n",
       "\n",
       "    .dataframe thead th {\n",
       "        text-align: right;\n",
       "    }\n",
       "</style>\n",
       "<table border=\"1\" class=\"dataframe\">\n",
       "  <thead>\n",
       "    <tr style=\"text-align: right;\">\n",
       "      <th></th>\n",
       "      <th>Dataset</th>\n",
       "      <th>Datatype</th>\n",
       "      <th>Train Set</th>\n",
       "      <th>Train Sparsity</th>\n",
       "      <th>Evaluation Set</th>\n",
       "      <th>Evaluation Sparsity</th>\n",
       "      <th>Embedding Method</th>\n",
       "      <th>Prediction Method</th>\n",
       "      <th>Task</th>\n",
       "      <th>Accuracy</th>\n",
       "      <th>RMSE</th>\n",
       "    </tr>\n",
       "  </thead>\n",
       "  <tbody>\n",
       "    <tr>\n",
       "      <th>48</th>\n",
       "      <td>Smartvote</td>\n",
       "      <td>Original</td>\n",
       "      <td>Train</td>\n",
       "      <td>80</td>\n",
       "      <td>Train</td>\n",
       "      <td>80</td>\n",
       "      <td>NOMINATE</td>\n",
       "      <td>IRT</td>\n",
       "      <td>Fit</td>\n",
       "      <td>0.857583</td>\n",
       "      <td>0.259026</td>\n",
       "    </tr>\n",
       "    <tr>\n",
       "      <th>49</th>\n",
       "      <td>Smartvote</td>\n",
       "      <td>Original</td>\n",
       "      <td>Train</td>\n",
       "      <td>80</td>\n",
       "      <td>Train</td>\n",
       "      <td>80</td>\n",
       "      <td>NOMINATE</td>\n",
       "      <td>IRT</td>\n",
       "      <td>Impute</td>\n",
       "      <td>0.789447</td>\n",
       "      <td>0.297707</td>\n",
       "    </tr>\n",
       "    <tr>\n",
       "      <th>50</th>\n",
       "      <td>Smartvote</td>\n",
       "      <td>Original</td>\n",
       "      <td>Train</td>\n",
       "      <td>80</td>\n",
       "      <td>Train</td>\n",
       "      <td>80</td>\n",
       "      <td>NOMINATE</td>\n",
       "      <td>IRT</td>\n",
       "      <td>Overall</td>\n",
       "      <td>0.803074</td>\n",
       "      <td>0.289971</td>\n",
       "    </tr>\n",
       "    <tr>\n",
       "      <th>51</th>\n",
       "      <td>Smartvote</td>\n",
       "      <td>Binary</td>\n",
       "      <td>Train</td>\n",
       "      <td>80</td>\n",
       "      <td>Train</td>\n",
       "      <td>80</td>\n",
       "      <td>NOMINATE</td>\n",
       "      <td>IRT</td>\n",
       "      <td>Fit</td>\n",
       "      <td>0.857583</td>\n",
       "      <td>0.341158</td>\n",
       "    </tr>\n",
       "    <tr>\n",
       "      <th>52</th>\n",
       "      <td>Smartvote</td>\n",
       "      <td>Binary</td>\n",
       "      <td>Train</td>\n",
       "      <td>80</td>\n",
       "      <td>Train</td>\n",
       "      <td>80</td>\n",
       "      <td>NOMINATE</td>\n",
       "      <td>IRT</td>\n",
       "      <td>Impute</td>\n",
       "      <td>0.789447</td>\n",
       "      <td>0.386086</td>\n",
       "    </tr>\n",
       "    <tr>\n",
       "      <th>53</th>\n",
       "      <td>Smartvote</td>\n",
       "      <td>Binary</td>\n",
       "      <td>Train</td>\n",
       "      <td>80</td>\n",
       "      <td>Train</td>\n",
       "      <td>80</td>\n",
       "      <td>NOMINATE</td>\n",
       "      <td>IRT</td>\n",
       "      <td>Overall</td>\n",
       "      <td>0.803074</td>\n",
       "      <td>0.377100</td>\n",
       "    </tr>\n",
       "    <tr>\n",
       "      <th>54</th>\n",
       "      <td>Smartvote</td>\n",
       "      <td>Original</td>\n",
       "      <td>Train</td>\n",
       "      <td>80</td>\n",
       "      <td>Test</td>\n",
       "      <td>80</td>\n",
       "      <td>NOMINATE</td>\n",
       "      <td>IRT</td>\n",
       "      <td>Fit</td>\n",
       "      <td>0.835862</td>\n",
       "      <td>0.262743</td>\n",
       "    </tr>\n",
       "    <tr>\n",
       "      <th>55</th>\n",
       "      <td>Smartvote</td>\n",
       "      <td>Original</td>\n",
       "      <td>Train</td>\n",
       "      <td>80</td>\n",
       "      <td>Test</td>\n",
       "      <td>80</td>\n",
       "      <td>NOMINATE</td>\n",
       "      <td>IRT</td>\n",
       "      <td>Impute</td>\n",
       "      <td>0.781264</td>\n",
       "      <td>0.307753</td>\n",
       "    </tr>\n",
       "    <tr>\n",
       "      <th>56</th>\n",
       "      <td>Smartvote</td>\n",
       "      <td>Original</td>\n",
       "      <td>Train</td>\n",
       "      <td>80</td>\n",
       "      <td>Test</td>\n",
       "      <td>80</td>\n",
       "      <td>NOMINATE</td>\n",
       "      <td>IRT</td>\n",
       "      <td>Overall</td>\n",
       "      <td>0.792184</td>\n",
       "      <td>0.298751</td>\n",
       "    </tr>\n",
       "    <tr>\n",
       "      <th>57</th>\n",
       "      <td>Smartvote</td>\n",
       "      <td>Binary</td>\n",
       "      <td>Train</td>\n",
       "      <td>80</td>\n",
       "      <td>Test</td>\n",
       "      <td>80</td>\n",
       "      <td>NOMINATE</td>\n",
       "      <td>IRT</td>\n",
       "      <td>Fit</td>\n",
       "      <td>0.835862</td>\n",
       "      <td>0.341882</td>\n",
       "    </tr>\n",
       "    <tr>\n",
       "      <th>58</th>\n",
       "      <td>Smartvote</td>\n",
       "      <td>Binary</td>\n",
       "      <td>Train</td>\n",
       "      <td>80</td>\n",
       "      <td>Test</td>\n",
       "      <td>80</td>\n",
       "      <td>NOMINATE</td>\n",
       "      <td>IRT</td>\n",
       "      <td>Impute</td>\n",
       "      <td>0.781264</td>\n",
       "      <td>0.392802</td>\n",
       "    </tr>\n",
       "    <tr>\n",
       "      <th>59</th>\n",
       "      <td>Smartvote</td>\n",
       "      <td>Binary</td>\n",
       "      <td>Train</td>\n",
       "      <td>80</td>\n",
       "      <td>Test</td>\n",
       "      <td>80</td>\n",
       "      <td>NOMINATE</td>\n",
       "      <td>IRT</td>\n",
       "      <td>Overall</td>\n",
       "      <td>0.792184</td>\n",
       "      <td>0.382618</td>\n",
       "    </tr>\n",
       "  </tbody>\n",
       "</table>\n",
       "</div>"
      ],
      "text/plain": [
       "      Dataset  Datatype Train Set  Train Sparsity Evaluation Set  \\\n",
       "48  Smartvote  Original     Train              80          Train   \n",
       "49  Smartvote  Original     Train              80          Train   \n",
       "50  Smartvote  Original     Train              80          Train   \n",
       "51  Smartvote    Binary     Train              80          Train   \n",
       "52  Smartvote    Binary     Train              80          Train   \n",
       "53  Smartvote    Binary     Train              80          Train   \n",
       "54  Smartvote  Original     Train              80           Test   \n",
       "55  Smartvote  Original     Train              80           Test   \n",
       "56  Smartvote  Original     Train              80           Test   \n",
       "57  Smartvote    Binary     Train              80           Test   \n",
       "58  Smartvote    Binary     Train              80           Test   \n",
       "59  Smartvote    Binary     Train              80           Test   \n",
       "\n",
       "    Evaluation Sparsity Embedding Method Prediction Method     Task  Accuracy  \\\n",
       "48                   80         NOMINATE               IRT      Fit  0.857583   \n",
       "49                   80         NOMINATE               IRT   Impute  0.789447   \n",
       "50                   80         NOMINATE               IRT  Overall  0.803074   \n",
       "51                   80         NOMINATE               IRT      Fit  0.857583   \n",
       "52                   80         NOMINATE               IRT   Impute  0.789447   \n",
       "53                   80         NOMINATE               IRT  Overall  0.803074   \n",
       "54                   80         NOMINATE               IRT      Fit  0.835862   \n",
       "55                   80         NOMINATE               IRT   Impute  0.781264   \n",
       "56                   80         NOMINATE               IRT  Overall  0.792184   \n",
       "57                   80         NOMINATE               IRT      Fit  0.835862   \n",
       "58                   80         NOMINATE               IRT   Impute  0.781264   \n",
       "59                   80         NOMINATE               IRT  Overall  0.792184   \n",
       "\n",
       "        RMSE  \n",
       "48  0.259026  \n",
       "49  0.297707  \n",
       "50  0.289971  \n",
       "51  0.341158  \n",
       "52  0.386086  \n",
       "53  0.377100  \n",
       "54  0.262743  \n",
       "55  0.307753  \n",
       "56  0.298751  \n",
       "57  0.341882  \n",
       "58  0.392802  \n",
       "59  0.382618  "
      ]
     },
     "execution_count": 5,
     "metadata": {},
     "output_type": "execute_result"
    }
   ],
   "source": [
    "metrics.loc[ metrics['Train Sparsity']==80]"
   ]
  },
  {
   "cell_type": "code",
   "execution_count": null,
   "id": "07b2449e",
   "metadata": {},
   "outputs": [],
   "source": []
  }
 ],
 "metadata": {
  "kernelspec": {
   "display_name": "Python 3 (ipykernel)",
   "language": "python",
   "name": "python3"
  },
  "language_info": {
   "codemirror_mode": {
    "name": "ipython",
    "version": 3
   },
   "file_extension": ".py",
   "mimetype": "text/x-python",
   "name": "python",
   "nbconvert_exporter": "python",
   "pygments_lexer": "ipython3",
   "version": "3.9.18"
  }
 },
 "nbformat": 4,
 "nbformat_minor": 5
}
